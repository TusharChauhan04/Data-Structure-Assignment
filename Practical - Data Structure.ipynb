{
 "cells": [
  {
   "cell_type": "code",
   "execution_count": 1,
   "id": "292931bb-4efb-455f-a1a3-f351e163d681",
   "metadata": {},
   "outputs": [],
   "source": [
    "#Practical Data Structure"
   ]
  },
  {
   "cell_type": "code",
   "execution_count": 2,
   "id": "301b6675-3bd0-4c8a-b251-3eb5c6ebb76c",
   "metadata": {},
   "outputs": [
    {
     "name": "stdout",
     "output_type": "stream",
     "text": [
      "Tushar Chauhan\n"
     ]
    }
   ],
   "source": [
    "# 1. Write a code to create a string with your name and print it. \n",
    "\n",
    "name = \"Tushar Chauhan\"\n",
    "print(name)"
   ]
  },
  {
   "cell_type": "code",
   "execution_count": 4,
   "id": "1578b026-1328-4abc-a6c9-3b410cffa791",
   "metadata": {},
   "outputs": [
    {
     "name": "stdout",
     "output_type": "stream",
     "text": [
      "11\n"
     ]
    }
   ],
   "source": [
    "# 2.  Write a code to find the length of the string \"Hello World\". \n",
    "\n",
    "s = \"Hello World\"\n",
    "\n",
    "print(len(s))"
   ]
  },
  {
   "cell_type": "code",
   "execution_count": 6,
   "id": "3990eb2d-4d74-4d5e-95fc-98cd4c4f10a7",
   "metadata": {},
   "outputs": [
    {
     "data": {
      "text/plain": [
       "'Pyt'"
      ]
     },
     "execution_count": 6,
     "metadata": {},
     "output_type": "execute_result"
    }
   ],
   "source": [
    "# 3. Write a code to slice the first 3 characters from the string \"Python Programming\". \n",
    "\n",
    "s = \"Python Programming\"\n",
    "\n",
    "s[0:3]"
   ]
  },
  {
   "cell_type": "code",
   "execution_count": 7,
   "id": "69eaa3d2-d6a6-47fe-b826-065e9a5effe6",
   "metadata": {},
   "outputs": [
    {
     "name": "stdout",
     "output_type": "stream",
     "text": [
      "HELLO\n"
     ]
    }
   ],
   "source": [
    "# 4. Write a code to convert the string \"hello\" to uppercase. \n",
    "\n",
    "s = \"hello\"\n",
    "\n",
    "print(s.upper())"
   ]
  },
  {
   "cell_type": "code",
   "execution_count": 8,
   "id": "7f7131e8-26a5-47ed-85d0-bdfd7769774b",
   "metadata": {},
   "outputs": [
    {
     "name": "stdout",
     "output_type": "stream",
     "text": [
      "I like orange\n"
     ]
    }
   ],
   "source": [
    "# 5. Write a code to replace the word \"apple\" with \"orange\" in the string \"I like apple\". \n",
    "\n",
    "s = \"I like apple\"\n",
    "\n",
    "print(s.replace(\"apple\",\"orange\"))"
   ]
  },
  {
   "cell_type": "code",
   "execution_count": 11,
   "id": "64febbf9-45c1-44ab-9b88-a2df801d8a25",
   "metadata": {},
   "outputs": [
    {
     "name": "stdout",
     "output_type": "stream",
     "text": [
      "[1, 2, 3, 4, 5]\n"
     ]
    },
    {
     "data": {
      "text/plain": [
       "list"
      ]
     },
     "execution_count": 11,
     "metadata": {},
     "output_type": "execute_result"
    }
   ],
   "source": [
    "# 6. Write a code to create a list with numbers 1 to 5 and print it. \n",
    "\n",
    "l = [1,2,3,4,5]\n",
    "\n",
    "print(l)\n",
    "type(l)"
   ]
  },
  {
   "cell_type": "code",
   "execution_count": 18,
   "id": "b26d83ec-6679-4c1e-a58f-1507684324dd",
   "metadata": {},
   "outputs": [
    {
     "name": "stdout",
     "output_type": "stream",
     "text": [
      "[1, 2, 3, 4, 10]\n"
     ]
    }
   ],
   "source": [
    "# 7. Write a code to append the number 10 to the list [1, 2, 3, 4]. \n",
    "\n",
    "l = [1,2,3,4]\n",
    "l.append(10)\n",
    "\n",
    "print(l)"
   ]
  },
  {
   "cell_type": "code",
   "execution_count": 19,
   "id": "05ea8a6d-9b57-41c1-82b5-61acd27bf3d1",
   "metadata": {},
   "outputs": [
    {
     "name": "stdout",
     "output_type": "stream",
     "text": [
      "[1, 2, 4, 5]\n"
     ]
    }
   ],
   "source": [
    "# 8. Write a code to remove the number 3 from the list [1, 2, 3, 4, 5]. \n",
    "\n",
    "l = [1,2,3,4,5]\n",
    "l.remove(3)\n",
    "\n",
    "print(l)"
   ]
  },
  {
   "cell_type": "code",
   "execution_count": 20,
   "id": "e4e2918b-79f6-4494-bc09-f3546d1b7f76",
   "metadata": {},
   "outputs": [
    {
     "data": {
      "text/plain": [
       "'b'"
      ]
     },
     "execution_count": 20,
     "metadata": {},
     "output_type": "execute_result"
    }
   ],
   "source": [
    "# 9. Write a code to access the second element in the list ['a', 'b', 'c', 'd']. \n",
    "\n",
    "l = ['a', 'b', 'c', 'd']\n",
    "\n",
    "l[1]"
   ]
  },
  {
   "cell_type": "code",
   "execution_count": 22,
   "id": "e0ae819a-ade0-489e-a61f-4fecf0ff130f",
   "metadata": {},
   "outputs": [
    {
     "data": {
      "text/plain": [
       "[50, 40, 30, 20, 10]"
      ]
     },
     "execution_count": 22,
     "metadata": {},
     "output_type": "execute_result"
    }
   ],
   "source": [
    "# 10. Write a code to reverse the list [10, 20, 30, 40, 50]. \n",
    "\n",
    "l = [10, 20, 30, 40, 50]\n",
    "\n",
    "l[::-1]"
   ]
  },
  {
   "cell_type": "code",
   "execution_count": 40,
   "id": "6a92a0d0-3e57-4e1c-a8b8-06fe08b7db05",
   "metadata": {},
   "outputs": [
    {
     "name": "stdout",
     "output_type": "stream",
     "text": [
      "(100, 200, 300)\n"
     ]
    },
    {
     "data": {
      "text/plain": [
       "tuple"
      ]
     },
     "execution_count": 40,
     "metadata": {},
     "output_type": "execute_result"
    }
   ],
   "source": [
    "# 11. Write a code to create a tuple with the elements 100, 200, 300 and print it. \n",
    "\n",
    "t = (100,200,300)\n",
    "print(t)\n",
    "type(t)"
   ]
  },
  {
   "cell_type": "code",
   "execution_count": 41,
   "id": "6c8bbe8d-ca44-4b92-94df-cb29692fbd3e",
   "metadata": {},
   "outputs": [
    {
     "data": {
      "text/plain": [
       "('green', 'blue', 'yellow')"
      ]
     },
     "execution_count": 41,
     "metadata": {},
     "output_type": "execute_result"
    }
   ],
   "source": [
    "# 12. Write a code to access the second-to-last element of the tuple ('red', 'green', 'blue', 'yellow'). \n",
    "\n",
    "t = ('red', 'green', 'blue', 'yellow')\n",
    "t[1::]"
   ]
  },
  {
   "cell_type": "code",
   "execution_count": 43,
   "id": "7ecca965-9b63-401b-91cf-8a763d3c92f8",
   "metadata": {},
   "outputs": [
    {
     "data": {
      "text/plain": [
       "5"
      ]
     },
     "execution_count": 43,
     "metadata": {},
     "output_type": "execute_result"
    }
   ],
   "source": [
    "# 13.  Write a code to find the minimum number in the tuple (10, 20, 5, 15). \n",
    "\n",
    "t = (10, 20, 5, 15)\n",
    "min(t)"
   ]
  },
  {
   "cell_type": "code",
   "execution_count": 45,
   "id": "5ffe7d09-11e0-422b-a957-174f35f0076b",
   "metadata": {},
   "outputs": [
    {
     "data": {
      "text/plain": [
       "1"
      ]
     },
     "execution_count": 45,
     "metadata": {},
     "output_type": "execute_result"
    }
   ],
   "source": [
    "# 14.  Write a code to find the index of the element \"cat\" in the tuple ('dog', 'cat', 'rabbit'). \n",
    "\n",
    "t = ('dog', 'cat', 'rabbit')\n",
    "t.index('cat')"
   ]
  },
  {
   "cell_type": "code",
   "execution_count": 51,
   "id": "39410cec-dc85-4d44-b0f1-c1a858e37657",
   "metadata": {},
   "outputs": [
    {
     "name": "stdout",
     "output_type": "stream",
     "text": [
      "It is not in the tuple\n"
     ]
    }
   ],
   "source": [
    "# 15. Write a code to create a tuple containing three different fruits and check if \"kiwi\" is in it. \n",
    "\n",
    "t = ('apple','mango','orange')\n",
    "\n",
    "if 'kiwi' in (t):\n",
    "    print(\"Kiwi is in the tuple\")\n",
    "else:\n",
    "    print(\"It is not in the tuple\")"
   ]
  },
  {
   "cell_type": "code",
   "execution_count": 53,
   "id": "3ec3667a-9ec6-4225-ac72-853a3b1e72a6",
   "metadata": {},
   "outputs": [
    {
     "name": "stdout",
     "output_type": "stream",
     "text": [
      "{'b', 'a', 'c'}\n"
     ]
    },
    {
     "data": {
      "text/plain": [
       "set"
      ]
     },
     "execution_count": 53,
     "metadata": {},
     "output_type": "execute_result"
    }
   ],
   "source": [
    "# 16.  Write a code to create a set with the elements 'a', 'b', 'c' and print it. \n",
    "\n",
    "s = {'a','b','c'}\n",
    "print(s)\n",
    "type(s)"
   ]
  },
  {
   "cell_type": "code",
   "execution_count": 57,
   "id": "8fc09487-ecd9-4d5f-b3fc-653b4dc59538",
   "metadata": {},
   "outputs": [
    {
     "data": {
      "text/plain": [
       "set()"
      ]
     },
     "execution_count": 57,
     "metadata": {},
     "output_type": "execute_result"
    }
   ],
   "source": [
    "# 17. Write a code to clear all elements from the set {1, 2, 3, 4, 5}.\n",
    "\n",
    "s = {1,2,3,4,5}\n",
    "s.clear()\n",
    "s"
   ]
  },
  {
   "cell_type": "code",
   "execution_count": 59,
   "id": "65cbde73-5f01-4fe2-9a85-4456bb1ec4a0",
   "metadata": {},
   "outputs": [
    {
     "data": {
      "text/plain": [
       "{1, 2, 3}"
      ]
     },
     "execution_count": 59,
     "metadata": {},
     "output_type": "execute_result"
    }
   ],
   "source": [
    "# 18. Write a code to remove the element 4 from the set {1, 2, 3, 4}. \n",
    "\n",
    "s = {1,2,3,4}\n",
    "s.remove(4)\n",
    "s"
   ]
  },
  {
   "cell_type": "code",
   "execution_count": 60,
   "id": "98361daf-0dd9-4ff4-a75b-03048122adaf",
   "metadata": {},
   "outputs": [
    {
     "data": {
      "text/plain": [
       "{1, 2, 3, 4, 5}"
      ]
     },
     "execution_count": 60,
     "metadata": {},
     "output_type": "execute_result"
    }
   ],
   "source": [
    "# 19.  Write a code to find the union of two sets {1, 2, 3} and {3, 4, 5}. \n",
    "\n",
    "s1 = {1,2,3}\n",
    "s2 = {3,4,5}\n",
    "\n",
    "s1|s2"
   ]
  },
  {
   "cell_type": "code",
   "execution_count": 61,
   "id": "1201ab56-121c-4663-b04a-bfb3fa178c0d",
   "metadata": {},
   "outputs": [
    {
     "data": {
      "text/plain": [
       "{2, 3}"
      ]
     },
     "execution_count": 61,
     "metadata": {},
     "output_type": "execute_result"
    }
   ],
   "source": [
    "# 20.  Write a code to find the intersection of two sets {1, 2, 3} and {2, 3, 4}. \n",
    "\n",
    "s1 = {1, 2, 3}\n",
    "s2 = {2, 3, 4}\n",
    "\n",
    "s1&s2"
   ]
  },
  {
   "cell_type": "code",
   "execution_count": 67,
   "id": "82eb6af6-411e-4e04-99f4-14988d53bc41",
   "metadata": {},
   "outputs": [
    {
     "name": "stdout",
     "output_type": "stream",
     "text": [
      "{'Name': 'Tushar Chauhan', 'age': 21, 'city': 'Noida'}\n"
     ]
    },
    {
     "data": {
      "text/plain": [
       "dict"
      ]
     },
     "execution_count": 67,
     "metadata": {},
     "output_type": "execute_result"
    }
   ],
   "source": [
    "# 21. Write a code to create a dictionary with the keys \"name\", \"age\", and \"city\", and print it. \n",
    "\n",
    "d = {\"Name\": \"Tushar Chauhan\", \"age\": 21, \"city\": \"Noida\"}\n",
    "print(d)\n",
    "type(d)"
   ]
  },
  {
   "cell_type": "code",
   "execution_count": 73,
   "id": "22bd4780-56aa-400b-86b0-bf8dbd70526e",
   "metadata": {},
   "outputs": [
    {
     "data": {
      "text/plain": [
       "{'name': 'John', 'age': 25, 'country': 'USA'}"
      ]
     },
     "execution_count": 73,
     "metadata": {},
     "output_type": "execute_result"
    }
   ],
   "source": [
    "# 22. Write a code to add a new key-value pair \"country\": \"USA\" to the dictionary {'name': 'John', 'age': 25}. \n",
    "\n",
    "d = {'name': 'John', 'age': 25}\n",
    "d[\"country\"] = \"USA\"\n",
    "d"
   ]
  },
  {
   "cell_type": "code",
   "execution_count": 78,
   "id": "661eec98-43d1-4286-98da-711ab78d6658",
   "metadata": {},
   "outputs": [
    {
     "data": {
      "text/plain": [
       "'Alice'"
      ]
     },
     "execution_count": 78,
     "metadata": {},
     "output_type": "execute_result"
    }
   ],
   "source": [
    "# 23. Write a code to access the value associated with the key \"name\" in the dictionary {'name': 'Alice', 'age': 30}. \n",
    "\n",
    "d = {'name': 'Alice', 'age': 30}\n",
    "\n",
    "d['name']"
   ]
  },
  {
   "cell_type": "code",
   "execution_count": 84,
   "id": "47e9d611-cc88-4547-9435-1b9137f28f3b",
   "metadata": {},
   "outputs": [
    {
     "data": {
      "text/plain": [
       "{'name': 'Bob', 'city': 'New York'}"
      ]
     },
     "execution_count": 84,
     "metadata": {},
     "output_type": "execute_result"
    }
   ],
   "source": [
    "# 24. Write a code to remove the key \"age\" from the dictionary {'name': 'Bob', 'age': 22, 'city': 'New York'}.\n",
    "\n",
    "d = {'name': 'Bob', 'age': 22, 'city': 'New York'}\n",
    "\n",
    "d.pop('age')\n",
    "d"
   ]
  },
  {
   "cell_type": "code",
   "execution_count": 85,
   "id": "a33296c2-6f97-4ba3-a1ea-c1f2a66a9a53",
   "metadata": {},
   "outputs": [
    {
     "name": "stdout",
     "output_type": "stream",
     "text": [
      "Yes it is there\n"
     ]
    }
   ],
   "source": [
    "# 25.  Write a code to check if the key \"city\" exists in the dictionary {'name': 'Alice', 'city': 'Paris'}. \n",
    "\n",
    "d = {'name': 'Alice', 'city': 'Paris'}\n",
    "\n",
    "if \"city\" in d:\n",
    "    print(\"Yes it is there\")\n",
    "else:\n",
    "    print(\"No its not there\")"
   ]
  },
  {
   "cell_type": "code",
   "execution_count": 91,
   "id": "d0f006bd-93c1-4c94-b09e-910d338fd746",
   "metadata": {},
   "outputs": [
    {
     "name": "stdout",
     "output_type": "stream",
     "text": [
      "[1, 2, 3, 4, 5]\n",
      "('apple', 'mango', 'ornage')\n",
      "{'name': 'Aman', 'age': 21}\n"
     ]
    }
   ],
   "source": [
    "# 26. Write a code to create a list, a tuple, and a dictionary, and print them all. \n",
    "\n",
    "my_list = [1,2,3,4,5]\n",
    "my_tuple = ('apple','mango','ornage')\n",
    "my_dict = {'name': 'Aman', 'age': 21}\n",
    "\n",
    "print(my_list)\n",
    "print(my_tuple)\n",
    "print(my_dict)"
   ]
  },
  {
   "cell_type": "code",
   "execution_count": 101,
   "id": "7a7bec11-6786-4648-82f9-e30c1ea981f5",
   "metadata": {},
   "outputs": [
    {
     "data": {
      "text/plain": [
       "[4, 12, 21, 45, 89]"
      ]
     },
     "execution_count": 101,
     "metadata": {},
     "output_type": "execute_result"
    }
   ],
   "source": [
    "# 27. Write a code to create a list of 5 random numbers between 1 and 100, sort it in ascending order, and print the\n",
    "#result.(replaced) \n",
    "\n",
    "l = [45,89,12,4,21]\n",
    "\n",
    "l.sort()\n",
    "l"
   ]
  },
  {
   "cell_type": "code",
   "execution_count": 103,
   "id": "62fe583d-76ec-4968-947f-cc64c3cce01d",
   "metadata": {},
   "outputs": [
    {
     "name": "stdout",
     "output_type": "stream",
     "text": [
      "four\n"
     ]
    }
   ],
   "source": [
    "# 28. Write a code to create a list with strings and print the element at the third index. \n",
    "\n",
    "l = [\"one\",\"two\",\"three\",\"four\",\"five\"]\n",
    "print(l[3])"
   ]
  },
  {
   "cell_type": "code",
   "execution_count": 108,
   "id": "cc07e683-a2df-48de-b9e1-c0766a028253",
   "metadata": {},
   "outputs": [
    {
     "data": {
      "text/plain": [
       "[{'a': 1, 'b': 2}, {'c': 3, 'd': 4}]"
      ]
     },
     "execution_count": 108,
     "metadata": {},
     "output_type": "execute_result"
    }
   ],
   "source": [
    "# 29.  Write a code to combine two dictionaries into one and print the result.\n",
    "\n",
    "dict1 = {'a': 1, 'b': 2}\n",
    "dict2 = {'c': 3, 'd': 4}\n",
    "\n",
    "dict3 = [dict1, dict2]\n",
    "\n",
    "dict3"
   ]
  },
  {
   "cell_type": "code",
   "execution_count": 109,
   "id": "e8bb273a-fe54-49fc-91ca-060ec9e8c774",
   "metadata": {},
   "outputs": [
    {
     "name": "stdout",
     "output_type": "stream",
     "text": [
      "{'cherry', 'banana', 'apple'}\n"
     ]
    }
   ],
   "source": [
    "# 30. Write a code to convert a list of strings into a set.\n",
    "\n",
    "my_list = [\"apple\", \"banana\", \"cherry\", \"apple\", \"banana\"]\n",
    "my_set = set(my_list)\n",
    "print(my_set)"
   ]
  },
  {
   "cell_type": "code",
   "execution_count": null,
   "id": "ad1bcbe3-e8b9-484e-9ef5-34be33f4918a",
   "metadata": {},
   "outputs": [],
   "source": []
  }
 ],
 "metadata": {
  "kernelspec": {
   "display_name": "Python 3 (ipykernel)",
   "language": "python",
   "name": "python3"
  },
  "language_info": {
   "codemirror_mode": {
    "name": "ipython",
    "version": 3
   },
   "file_extension": ".py",
   "mimetype": "text/x-python",
   "name": "python",
   "nbconvert_exporter": "python",
   "pygments_lexer": "ipython3",
   "version": "3.13.7"
  }
 },
 "nbformat": 4,
 "nbformat_minor": 5
}
